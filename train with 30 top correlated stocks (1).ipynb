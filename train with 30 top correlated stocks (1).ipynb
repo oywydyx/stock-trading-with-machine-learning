{
 "cells": [
  {
   "cell_type": "code",
   "execution_count": 1,
   "metadata": {},
   "outputs": [],
   "source": [
    "import numpy as np\n",
    "import pandas as pd\n",
    "import pickle\n",
    "from collections import Counter\n",
    "import datetime as dt\n",
    "import matplotlib.pyplot as plt"
   ]
  },
  {
   "cell_type": "code",
   "execution_count": 4,
   "metadata": {},
   "outputs": [],
   "source": [
    "#extract top 30 most correlated stocks \n",
    "df = pd.read_csv('sp500.csv', index_col= 0)\n",
    "df_corr = df.corr()\n",
    "def extract_30_corr(ticker):\n",
    "    corr_index = df_corr[ticker].abs().rank().sort_values(ascending = False)[0:30].index\n",
    "    tickers = corr_index.values.tolist()\n",
    "    return tickers    "
   ]
  },
  {
   "cell_type": "code",
   "execution_count": 5,
   "metadata": {},
   "outputs": [],
   "source": [
    "#calculate the aggregate corr scores\n",
    "def corr_scores(ticker):  \n",
    "    #df = pd.read_csv('sp500.csv', index_col = 0)\n",
    "    #df_corr = df.corr()\n",
    "    score = 0\n",
    "    for ticker2 in extract_30_corr(ticker):\n",
    "        score += abs(df_corr[ticker][ticker2])\n",
    "    return score\n",
    "    "
   ]
  },
  {
   "cell_type": "code",
   "execution_count": 6,
   "metadata": {},
   "outputs": [],
   "source": [
    "#calculate the 7 days percentage change of target stock\n",
    "#return the complete dataframe with pct_change\n",
    "def pct_change_calculation(ticker):\n",
    "    hm_days = 7\n",
    "    df = pd.read_csv('sp500.csv', index_col= 0)\n",
    "    df.fillna(0, inplace= True)\n",
    "    \n",
    "    for i in range(1, hm_days+1):\n",
    "        df['{}_{}D'.format(ticker, i)] =( df[ticker].shift(-i) - df[ticker]) / df[ticker]\n",
    "    df.fillna(0, inplace = True)  \n",
    "    return df"
   ]
  },
  {
   "cell_type": "code",
   "execution_count": null,
   "metadata": {},
   "outputs": [],
   "source": []
  },
  {
   "cell_type": "code",
   "execution_count": 7,
   "metadata": {},
   "outputs": [],
   "source": [
    "#If in the next 7 days, anytime when\n",
    "#the pct change becomes higher (lower) than 0.02(-0.02), the function will return 1,-1,0\n",
    "def buy_sell_hold(*args):\n",
    "    cols = [c for c in args]\n",
    "    requirement = 0.02\n",
    "    for col in cols:\n",
    "        if col > 0.02:\n",
    "            return 1\n",
    "        if col < -0.02:\n",
    "            return -1\n",
    "    return 0"
   ]
  },
  {
   "cell_type": "code",
   "execution_count": 8,
   "metadata": {},
   "outputs": [],
   "source": [
    "def extract_featuresets(ticker):\n",
    "    tickers = extract_30_corr(ticker)\n",
    "    df = pct_change_calculation(ticker)\n",
    "    df['{}_target'.format(ticker)] = list(map(buy_sell_hold,\n",
    "                                                 df['{}_1D'.format(ticker)],\n",
    "                                                df['{}_2D'.format(ticker)],\n",
    "                                                df['{}_3D'.format(ticker)],\n",
    "                                                df['{}_4D'.format(ticker)],\n",
    "                                                df['{}_5D'.format(ticker)],\n",
    "                                                df['{}_6D'.format(ticker)],\n",
    "                                                df['{}_7D'.format(ticker)]\n",
    "                                             ))\n",
    "    vals = df['{}_target'.format(ticker)].values.tolist()\n",
    "    str_vals = [str(i) for i in vals]\n",
    "    print('data spread:', Counter(str_vals))\n",
    "    df.fillna(0, inplace=True)\n",
    "    \n",
    "    df = df.replace([np.inf, -np.inf], np.nan)\n",
    "    df.dropna(inplace = True)\n",
    "    \n",
    "    #pct change every day\n",
    "    df_vals = df[[ticker for ticker in tickers]].pct_change()\n",
    "    df_vals = df_vals.replace([np.inf, -np.inf], 0)\n",
    "    #fill the base date with 0\n",
    "    df_vals.fillna(0, inplace=True)\n",
    "    \n",
    "    X = df_vals\n",
    "    y = df['{}_target'.format(ticker)].values\n",
    "    \n",
    "    return X, y\n",
    "                                                   "
   ]
  },
  {
   "cell_type": "code",
   "execution_count": 13,
   "metadata": {},
   "outputs": [
    {
     "name": "stdout",
     "output_type": "stream",
     "text": [
      "data spread: Counter({'1': 2398, '-1': 1990, '0': 457})\n"
     ]
    },
    {
     "data": {
      "text/html": [
       "<div>\n",
       "<style scoped>\n",
       "    .dataframe tbody tr th:only-of-type {\n",
       "        vertical-align: middle;\n",
       "    }\n",
       "\n",
       "    .dataframe tbody tr th {\n",
       "        vertical-align: top;\n",
       "    }\n",
       "\n",
       "    .dataframe thead th {\n",
       "        text-align: right;\n",
       "    }\n",
       "</style>\n",
       "<table border=\"1\" class=\"dataframe\">\n",
       "  <thead>\n",
       "    <tr style=\"text-align: right;\">\n",
       "      <th></th>\n",
       "      <th>AAPL</th>\n",
       "      <th>SHW</th>\n",
       "      <th>IT</th>\n",
       "      <th>ROP</th>\n",
       "      <th>APH</th>\n",
       "      <th>COST</th>\n",
       "      <th>ACN</th>\n",
       "      <th>ROST</th>\n",
       "      <th>FIS</th>\n",
       "      <th>HON</th>\n",
       "      <th>...</th>\n",
       "      <th>MTD</th>\n",
       "      <th>V</th>\n",
       "      <th>NEE</th>\n",
       "      <th>CRM</th>\n",
       "      <th>NKE</th>\n",
       "      <th>ZTS</th>\n",
       "      <th>BF-B</th>\n",
       "      <th>EL</th>\n",
       "      <th>LNT</th>\n",
       "      <th>TDG</th>\n",
       "    </tr>\n",
       "    <tr>\n",
       "      <th>Date</th>\n",
       "      <th></th>\n",
       "      <th></th>\n",
       "      <th></th>\n",
       "      <th></th>\n",
       "      <th></th>\n",
       "      <th></th>\n",
       "      <th></th>\n",
       "      <th></th>\n",
       "      <th></th>\n",
       "      <th></th>\n",
       "      <th></th>\n",
       "      <th></th>\n",
       "      <th></th>\n",
       "      <th></th>\n",
       "      <th></th>\n",
       "      <th></th>\n",
       "      <th></th>\n",
       "      <th></th>\n",
       "      <th></th>\n",
       "      <th></th>\n",
       "      <th></th>\n",
       "    </tr>\n",
       "  </thead>\n",
       "  <tbody>\n",
       "    <tr>\n",
       "      <th>2002-01-02</th>\n",
       "      <td>0.063927</td>\n",
       "      <td>-0.014909</td>\n",
       "      <td>-0.011976</td>\n",
       "      <td>0.007677</td>\n",
       "      <td>-0.001041</td>\n",
       "      <td>0.001577</td>\n",
       "      <td>-0.026375</td>\n",
       "      <td>0.018391</td>\n",
       "      <td>0.028639</td>\n",
       "      <td>-0.012419</td>\n",
       "      <td>...</td>\n",
       "      <td>-0.016393</td>\n",
       "      <td>0.0</td>\n",
       "      <td>0.009751</td>\n",
       "      <td>0.0</td>\n",
       "      <td>0.012091</td>\n",
       "      <td>0.001598</td>\n",
       "      <td>0.001598</td>\n",
       "      <td>0.002495</td>\n",
       "      <td>0.008893</td>\n",
       "      <td>0.0</td>\n",
       "    </tr>\n",
       "    <tr>\n",
       "      <th>2002-01-03</th>\n",
       "      <td>0.012018</td>\n",
       "      <td>0.033592</td>\n",
       "      <td>0.008658</td>\n",
       "      <td>0.012630</td>\n",
       "      <td>0.043750</td>\n",
       "      <td>0.008775</td>\n",
       "      <td>-0.031286</td>\n",
       "      <td>-0.011937</td>\n",
       "      <td>0.003977</td>\n",
       "      <td>0.019760</td>\n",
       "      <td>...</td>\n",
       "      <td>-0.019608</td>\n",
       "      <td>0.0</td>\n",
       "      <td>-0.006145</td>\n",
       "      <td>0.0</td>\n",
       "      <td>-0.007379</td>\n",
       "      <td>0.011004</td>\n",
       "      <td>0.011004</td>\n",
       "      <td>0.007467</td>\n",
       "      <td>-0.004897</td>\n",
       "      <td>0.0</td>\n",
       "    </tr>\n",
       "    <tr>\n",
       "      <th>2002-01-04</th>\n",
       "      <td>0.004665</td>\n",
       "      <td>-0.003214</td>\n",
       "      <td>0.012876</td>\n",
       "      <td>0.025540</td>\n",
       "      <td>0.003992</td>\n",
       "      <td>-0.001115</td>\n",
       "      <td>0.090981</td>\n",
       "      <td>0.040582</td>\n",
       "      <td>-0.009621</td>\n",
       "      <td>0.015561</td>\n",
       "      <td>...</td>\n",
       "      <td>-0.008000</td>\n",
       "      <td>0.0</td>\n",
       "      <td>-0.005301</td>\n",
       "      <td>0.0</td>\n",
       "      <td>0.008850</td>\n",
       "      <td>0.006626</td>\n",
       "      <td>0.006626</td>\n",
       "      <td>0.009265</td>\n",
       "      <td>-0.004265</td>\n",
       "      <td>0.0</td>\n",
       "    </tr>\n",
       "    <tr>\n",
       "      <th>2002-01-07</th>\n",
       "      <td>-0.033347</td>\n",
       "      <td>-0.028305</td>\n",
       "      <td>-0.038136</td>\n",
       "      <td>-0.008880</td>\n",
       "      <td>-0.010935</td>\n",
       "      <td>-0.014959</td>\n",
       "      <td>-0.045126</td>\n",
       "      <td>-0.001190</td>\n",
       "      <td>-0.030571</td>\n",
       "      <td>0.002891</td>\n",
       "      <td>...</td>\n",
       "      <td>-0.026008</td>\n",
       "      <td>0.0</td>\n",
       "      <td>0.003553</td>\n",
       "      <td>0.0</td>\n",
       "      <td>0.003333</td>\n",
       "      <td>0.023351</td>\n",
       "      <td>0.023351</td>\n",
       "      <td>0.004590</td>\n",
       "      <td>0.011532</td>\n",
       "      <td>0.0</td>\n",
       "    </tr>\n",
       "    <tr>\n",
       "      <th>2002-01-08</th>\n",
       "      <td>-0.012664</td>\n",
       "      <td>0.010325</td>\n",
       "      <td>0.049339</td>\n",
       "      <td>-0.006817</td>\n",
       "      <td>0.015076</td>\n",
       "      <td>0.006799</td>\n",
       "      <td>0.031380</td>\n",
       "      <td>0.004768</td>\n",
       "      <td>-0.005600</td>\n",
       "      <td>-0.019891</td>\n",
       "      <td>...</td>\n",
       "      <td>0.018009</td>\n",
       "      <td>0.0</td>\n",
       "      <td>-0.015929</td>\n",
       "      <td>0.0</td>\n",
       "      <td>0.002798</td>\n",
       "      <td>-0.012251</td>\n",
       "      <td>-0.012251</td>\n",
       "      <td>0.005483</td>\n",
       "      <td>-0.012052</td>\n",
       "      <td>0.0</td>\n",
       "    </tr>\n",
       "    <tr>\n",
       "      <th>2002-01-09</th>\n",
       "      <td>-0.042459</td>\n",
       "      <td>-0.003285</td>\n",
       "      <td>-0.034425</td>\n",
       "      <td>-0.016474</td>\n",
       "      <td>0.009307</td>\n",
       "      <td>-0.006078</td>\n",
       "      <td>0.010630</td>\n",
       "      <td>0.014536</td>\n",
       "      <td>0.021932</td>\n",
       "      <td>0.013235</td>\n",
       "      <td>...</td>\n",
       "      <td>-0.018910</td>\n",
       "      <td>0.0</td>\n",
       "      <td>0.002158</td>\n",
       "      <td>0.0</td>\n",
       "      <td>-0.014124</td>\n",
       "      <td>0.003411</td>\n",
       "      <td>0.003411</td>\n",
       "      <td>0.002727</td>\n",
       "      <td>0.000000</td>\n",
       "      <td>0.0</td>\n",
       "    </tr>\n",
       "  </tbody>\n",
       "</table>\n",
       "<p>6 rows × 30 columns</p>\n",
       "</div>"
      ],
      "text/plain": [
       "                AAPL       SHW        IT       ROP       APH      COST  \\\n",
       "Date                                                                     \n",
       "2002-01-02  0.063927 -0.014909 -0.011976  0.007677 -0.001041  0.001577   \n",
       "2002-01-03  0.012018  0.033592  0.008658  0.012630  0.043750  0.008775   \n",
       "2002-01-04  0.004665 -0.003214  0.012876  0.025540  0.003992 -0.001115   \n",
       "2002-01-07 -0.033347 -0.028305 -0.038136 -0.008880 -0.010935 -0.014959   \n",
       "2002-01-08 -0.012664  0.010325  0.049339 -0.006817  0.015076  0.006799   \n",
       "2002-01-09 -0.042459 -0.003285 -0.034425 -0.016474  0.009307 -0.006078   \n",
       "\n",
       "                 ACN      ROST       FIS       HON ...        MTD    V  \\\n",
       "Date                                               ...                   \n",
       "2002-01-02 -0.026375  0.018391  0.028639 -0.012419 ...  -0.016393  0.0   \n",
       "2002-01-03 -0.031286 -0.011937  0.003977  0.019760 ...  -0.019608  0.0   \n",
       "2002-01-04  0.090981  0.040582 -0.009621  0.015561 ...  -0.008000  0.0   \n",
       "2002-01-07 -0.045126 -0.001190 -0.030571  0.002891 ...  -0.026008  0.0   \n",
       "2002-01-08  0.031380  0.004768 -0.005600 -0.019891 ...   0.018009  0.0   \n",
       "2002-01-09  0.010630  0.014536  0.021932  0.013235 ...  -0.018910  0.0   \n",
       "\n",
       "                 NEE  CRM       NKE       ZTS      BF-B        EL       LNT  \\\n",
       "Date                                                                          \n",
       "2002-01-02  0.009751  0.0  0.012091  0.001598  0.001598  0.002495  0.008893   \n",
       "2002-01-03 -0.006145  0.0 -0.007379  0.011004  0.011004  0.007467 -0.004897   \n",
       "2002-01-04 -0.005301  0.0  0.008850  0.006626  0.006626  0.009265 -0.004265   \n",
       "2002-01-07  0.003553  0.0  0.003333  0.023351  0.023351  0.004590  0.011532   \n",
       "2002-01-08 -0.015929  0.0  0.002798 -0.012251 -0.012251  0.005483 -0.012052   \n",
       "2002-01-09  0.002158  0.0 -0.014124  0.003411  0.003411  0.002727  0.000000   \n",
       "\n",
       "            TDG  \n",
       "Date             \n",
       "2002-01-02  0.0  \n",
       "2002-01-03  0.0  \n",
       "2002-01-04  0.0  \n",
       "2002-01-07  0.0  \n",
       "2002-01-08  0.0  \n",
       "2002-01-09  0.0  \n",
       "\n",
       "[6 rows x 30 columns]"
      ]
     },
     "execution_count": 13,
     "metadata": {},
     "output_type": "execute_result"
    }
   ],
   "source": [
    "a,b = extract_featuresets('AAPL')\n",
    "a[500:506]"
   ]
  },
  {
   "cell_type": "code",
   "execution_count": 14,
   "metadata": {},
   "outputs": [],
   "source": [
    "from sklearn import svm, model_selection, neighbors\n",
    "from sklearn.ensemble import VotingClassifier, RandomForestClassifier\n",
    "\n",
    "def training(ticker, algorithm):\n",
    "    X, y = extract_featuresets(ticker)\n",
    "    \n",
    "    X_train, X_test, y_train, y_test = model_selection.train_test_split(X,y,test_size = 0.25)\n",
    "    \n",
    "   \n",
    "    if algorithm == 'svm':\n",
    "        clf = svm.LinearSVC(penalty='l1',dual=False, C= 10)\n",
    "        clf.fit(X_train, y_train)\n",
    "        confidence = clf.score(X_test, y_test)\n",
    "        #print('svm Accuracy:',confidence)\n",
    "        predictions = clf.predict(X_test)\n",
    "        #print('Predicted spread:', Counter(predictions))\n",
    "        #print('Correlation scores: ',corr_scores(ticker))\n",
    "        with open('models/{}_svm.pickle'.format(ticker),'wb') as f:\n",
    "            pickle.dump(clf,f)\n",
    "        return X_train, y_train, X_test, y_test,clf\n",
    "    elif algorithm == 'knn':\n",
    "        clf = neighbors.KNeighborsClassifier(n_neighbors= 20)\n",
    "        clf.fit(X_train, y_train)\n",
    "        confidence = clf.score(X_test, y_test)\n",
    "        #print('KNN Accuracy:',confidence)\n",
    "        predictions = clf.predict(X_test)\n",
    "        #print('Predicted spread:', Counter(predictions))\n",
    "        #print('Correlation scores: ',corr_scores(ticker))\n",
    "        with open('models/{}_KNN.pickle'.format(ticker),'wb') as f:\n",
    "            pickle.dump(clf,f)\n",
    "        return X_train, y_train, X_test, y_test,clf\n",
    "    elif algorithm == 'rf':\n",
    "        clf = RandomForestClassifier(max_depth=20)\n",
    "        clf.fit(X_train, y_train)\n",
    "        confidence = clf.score(X_test, y_test)\n",
    "        #print('KNN Accuracy:',confidence)\n",
    "        predictions = clf.predict(X_test)\n",
    "        #print('Predicted spread:', Counter(predictions))\n",
    "        #print('Correlation scores: ',corr_scores(ticker))\n",
    "        with open('models/{}_rf.pickle'.format(ticker),'wb') as f:\n",
    "            pickle.dump(clf,f)\n",
    "        return X_train, y_train, X_test, y_test,clf\n",
    "    elif algorithm == 'Voting':\n",
    "        clf = VotingClassifier([\n",
    "        ('lsvc', svm.LinearSVC(penalty = 'l1',dual = False)),\n",
    "                           ('knn', neighbors.KNeighborsClassifier(n_neighbors= 15)),\n",
    "                          ('rfor', RandomForestClassifier())])\n",
    "        clf.fit(X_train, y_train)\n",
    "        confidence = clf.score(X_test, y_test)\n",
    "        #print('Voting Accuracy:',confidence)\n",
    "        predictions = clf.predict(X_test)\n",
    "        #print('Predicted spread:', Counter(predictions))\n",
    "        #print('Correlation scores: ',corr_scores(ticker))\n",
    "        with open('models/{}_Voting.pickle'.format(ticker),'wb') as f:\n",
    "            pickle.dump(clf,f)\n",
    "        return X_train, y_train, X_test, y_test,clf"
   ]
  },
  {
   "cell_type": "code",
   "execution_count": 34,
   "metadata": {},
   "outputs": [],
   "source": [
    "#for date 20190410-0503, validates the profits\n",
    "val = pd.read_csv('sp500_joined_closes_new.csv',index_col= 0)\n",
    "def validate_profits(ticker,model_name):\n",
    "    with open('models/{}'.format(model_name),'rb') as f:\n",
    "        model = pickle.load(f)\n",
    "    tickers = extract_30_corr(ticker)\n",
    "    val_30 = val[tickers]\n",
    "    move = model.predict(val_30)\n",
    "    base = 1000\n",
    "    j = 0\n",
    "    for i in range(16):\n",
    "        if move[i] == 1:\n",
    "            base = base*val_30[ticker][i+1]/val_30[ticker][i]\n",
    "            j == 1\n",
    "        if move[i] == 0:\n",
    "            if j == 1:\n",
    "                base = base*val_30[ticker][i+1]/val_30[ticker][i]\n",
    "        if move[i] == -1:\n",
    "            j = -1\n",
    "    price_change = (val_30[ticker][16]-val_30[ticker][0])/val_30[ticker][0]\n",
    "    return val_30[ticker], move[0:17], base,price_change\n"
   ]
  },
  {
   "cell_type": "code",
   "execution_count": 35,
   "metadata": {},
   "outputs": [],
   "source": [
    "#stocks trained and the model picked\n",
    "def train_and_compile(tickers, model):\n",
    "    d1 = None\n",
    "    for ticker in tickers:\n",
    "        training(ticker,model)\n",
    "        fact,move,base,price_change = validate_profits(ticker, '{}_{}.pickle'.format(ticker,model))\n",
    "        l = ['profits','price_change','correlation_score']\n",
    "        if d1 is None:\n",
    "            d1 = pd.DataFrame([base-1000, price_change, corr_scores(ticker)], index = l, columns = [ticker])\n",
    "            d1.index.rename('index',inplace=True)\n",
    "        else:\n",
    "            d2 = pd.DataFrame([base-1000, price_change, corr_scores(ticker)], index = l, columns = [ticker])\n",
    "            d2.index.rename('index', inplace= True)\n",
    "            d1 = pd.merge(d1,d2,on = 'index')\n",
    "    return d1"
   ]
  },
  {
   "cell_type": "code",
   "execution_count": null,
   "metadata": {},
   "outputs": [],
   "source": []
  },
  {
   "cell_type": "code",
   "execution_count": 36,
   "metadata": {},
   "outputs": [],
   "source": [
    "#rank the correlation for all stocks, return a df\n",
    "def rank_corr_all():\n",
    "    with open('sp500tickers.pickle','rb') as f:\n",
    "        tickers = pickle.load(f)\n",
    "    df = pd.read_csv('sp500.csv', index_col = 0)\n",
    "    df_corr = df.corr()\n",
    "    corr_list = []\n",
    "    for i,ticker in enumerate(tickers):\n",
    "        corr_list.append(corr_scores(ticker))\n",
    "    d1 = pd.DataFrame(corr_list, columns=['score'])\n",
    "    d1.index.rename('index',inplace= True)\n",
    "    d2 = pd.DataFrame(tickers,columns = ['Name'])\n",
    "    d2.index.rename('index', inplace= True)\n",
    "    d_w = pd.merge(d1,d2, on = 'index')\n",
    "    d_w.sort_values(by = 'score', ascending = True, inplace= True)\n",
    "    return d_w"
   ]
  },
  {
   "cell_type": "code",
   "execution_count": 19,
   "metadata": {},
   "outputs": [],
   "source": [
    "corr_df = rank_corr_all()"
   ]
  },
  {
   "cell_type": "code",
   "execution_count": 20,
   "metadata": {},
   "outputs": [],
   "source": [
    "experimental_tickers = []\n",
    "corr_df = corr_df.reset_index(drop = True)\n",
    "for i in range(len(corr_df['Name'])):\n",
    "    if i % 30== 0:\n",
    "        experimental_tickers.append(corr_df['Name'][i])\n",
    "experimental_tickers.append('AAPL')"
   ]
  },
  {
   "cell_type": "code",
   "execution_count": 40,
   "metadata": {},
   "outputs": [
    {
     "name": "stdout",
     "output_type": "stream",
     "text": [
      "data spread: Counter({'1': 2237, '-1': 2047, '0': 561})\n",
      "svm Accuracy: 0.4570957095709571\n",
      "Predicted spread: Counter({1: 937, -1: 275})\n",
      "Correlation scores:  18.33182877577029\n",
      "data spread: Counter({'0': 1911, '1': 1522, '-1': 1412})\n",
      "svm Accuracy: 0.3859504132231405\n",
      "Predicted spread: Counter({0: 1031, 1: 124, -1: 55})\n",
      "Correlation scores:  23.663968033650274\n",
      "data spread: Counter({'1': 2356, '-1': 1994, '0': 495})\n",
      "svm Accuracy: 0.4900990099009901\n",
      "Predicted spread: Counter({1: 996, -1: 216})\n",
      "Correlation scores:  25.79947694399849\n",
      "data spread: Counter({'1': 2143, '-1': 1847, '0': 855})\n",
      "svm Accuracy: 0.4174917491749175\n",
      "Predicted spread: Counter({1: 1155, -1: 57})\n",
      "Correlation scores:  26.86505681917481\n",
      "data spread: Counter({'1': 2151, '-1': 1645, '0': 1049})\n",
      "svm Accuracy: 0.4430693069306931\n",
      "Predicted spread: Counter({1: 1142, -1: 70})\n",
      "Correlation scores:  27.39516859180841\n",
      "data spread: Counter({'1': 2491, '-1': 2085, '0': 269})\n",
      "svm Accuracy: 0.523102310231023\n",
      "Predicted spread: Counter({1: 1115, -1: 97})\n",
      "Correlation scores:  27.795174878661154\n",
      "data spread: Counter({'1': 2290, '-1': 1946, '0': 609})\n",
      "svm Accuracy: 0.4612211221122112\n",
      "Predicted spread: Counter({1: 1021, -1: 191})\n",
      "Correlation scores:  28.011779785015463\n",
      "data spread: Counter({'0': 2837, '1': 1157, '-1': 851})\n",
      "svm Accuracy: 0.5801652892561984\n",
      "Predicted spread: Counter({0: 1209, 1: 1})\n",
      "Correlation scores:  28.36446275980074\n",
      "data spread: Counter({'0': 1921, '1': 1645, '-1': 1279})\n",
      "svm Accuracy: 0.3776859504132231\n",
      "Predicted spread: Counter({0: 983, 1: 193, -1: 34})\n",
      "Correlation scores:  28.5955802600462\n",
      "data spread: Counter({'1': 2320, '-1': 1698, '0': 827})\n",
      "svm Accuracy: 0.45792079207920794\n",
      "Predicted spread: Counter({1: 1162, -1: 50})\n",
      "Correlation scores:  28.78908898596179\n",
      "data spread: Counter({'1': 2374, '-1': 1914, '0': 557})\n",
      "svm Accuracy: 0.4760726072607261\n",
      "Predicted spread: Counter({1: 1031, -1: 181})\n",
      "Correlation scores:  28.934052770638115\n",
      "data spread: Counter({'1': 2270, '-1': 1869, '0': 706})\n",
      "svm Accuracy: 0.45792079207920794\n",
      "Predicted spread: Counter({1: 1066, -1: 146})\n",
      "Correlation scores:  29.113980157526136\n",
      "data spread: Counter({'1': 2032, '-1': 1777, '0': 1036})\n",
      "svm Accuracy: 0.4051155115511551\n",
      "Predicted spread: Counter({1: 1027, -1: 184, 0: 1})\n",
      "Correlation scores:  29.18627357779022\n",
      "data spread: Counter({'0': 1984, '1': 1581, '-1': 1280})\n",
      "svm Accuracy: 0.41996699669966997\n",
      "Predicted spread: Counter({0: 1060, 1: 137, -1: 15})\n",
      "Correlation scores:  29.28133478440642\n",
      "data spread: Counter({'1': 2198, '-1': 1643, '0': 1004})\n",
      "svm Accuracy: 0.4570247933884298\n",
      "Predicted spread: Counter({1: 1145, -1: 65})\n",
      "Correlation scores:  29.375549291656533\n",
      "data spread: Counter({'1': 1863, '-1': 1574, '0': 1408})\n",
      "svm Accuracy: 0.38264462809917354\n",
      "Predicted spread: Counter({1: 1078, -1: 72, 0: 60})\n",
      "Correlation scores:  29.447629433901373\n",
      "data spread: Counter({'1': 1923, '0': 1540, '-1': 1382})\n",
      "svm Accuracy: 0.3844884488448845\n",
      "Predicted spread: Counter({1: 1042, 0: 106, -1: 64})\n",
      "Correlation scores:  29.547155109024605\n",
      "data spread: Counter({'1': 2398, '-1': 1990, '0': 457})\n",
      "svm Accuracy: 0.4876237623762376\n",
      "Predicted spread: Counter({1: 1069, -1: 143})\n",
      "Correlation scores:  29.394298707151002\n"
     ]
    }
   ],
   "source": [
    "d = train_and_compile(experimental_tickers, 'svm')"
   ]
  },
  {
   "cell_type": "code",
   "execution_count": 72,
   "metadata": {},
   "outputs": [],
   "source": [
    "svm_df = d.T"
   ]
  },
  {
   "cell_type": "code",
   "execution_count": 62,
   "metadata": {},
   "outputs": [],
   "source": [
    "def plot_profits(df, model_name):\n",
    "    plt.figure(figsize= (9,5))\n",
    "    plt.bar(experimental_tickers,df['profits'],facecolor = '#9999ff',edgecolor = 'white')\n",
    "    plt.title('profits based on {} model'.format(model_name))\n",
    "    for x,y in zip(experimental_tickers,df['profits']):\n",
    "        if y>= 0:\n",
    "            plt.text(x, y+5, '%.2f'%y, ha = 'center',va = 'top')\n",
    "        else:\n",
    "            plt.text(x, y-1, '%.2f'%y, ha = 'center',va = 'top')\n",
    "    plt.show()\n",
    "    \n",
    "    plt.savefig('graphs/{}_profits.jpeg'.format(model_name), quality = 1)\n",
    "    \n",
    "def plot_corr(df):\n",
    "    plt.figure(figsize= (9,5))\n",
    "    plt.bar(experimental_tickers,df['correlation_score'],facecolor = '#ff9999',edgecolor = 'white')\n",
    "    plt.title('correlation scores of experimental stocks')\n",
    "    for x,y in zip(experimental_tickers,df['correlation_score']):\n",
    "        if y>= 0:\n",
    "            plt.text(x, y+1, '%.2f'%y, ha = 'center',va = 'top')\n",
    "        else:\n",
    "            plt.text(x, y-1, '%.2f'%y, ha = 'center',va = 'top')\n",
    "    \n",
    "    #ha: horizontal alignment va: vertical alignment\n",
    "    plt.ylim(15,31)\n",
    "    plt.savefig('graphs/correlation_scores.jpeg')\n",
    "    plt.show()\n",
    "def plot_price_change(df):\n",
    "    plt.figure(figsize= (9,5))\n",
    "    plt.bar(experimental_tickers,df['price_change'],facecolor = 'springgreen',edgecolor = 'white')\n",
    "    plt.title('price change of experimental stocks in 17 days')\n",
    "    for x,y in zip(experimental_tickers,df['price_change']):\n",
    "        if y>= 0:\n",
    "            plt.text(x, y+0.006, '%.2f'%y, ha = 'center',va = 'top')\n",
    "        else:\n",
    "            plt.text(x, y-0.001, '%.2f'%y, ha = 'center',va = 'top')\n",
    "    plt.savefig('graphs/price_change.jpeg')\n",
    "    plt.show()"
   ]
  },
  {
   "cell_type": "code",
   "execution_count": 63,
   "metadata": {},
   "outputs": [
    {
     "data": {
      "image/png": "[encoded data removed]",
      "text/plain": [
       "<Figure size 648x360 with 1 Axes>"
      ]
     },
     "metadata": {
      "needs_background": "light"
     },
     "output_type": "display_data"
    },
    {
     "data": {
      "image/png": "[encoded data removed]",
      "text/plain": [
       "<Figure size 648x360 with 1 Axes>"
      ]
     },
     "metadata": {
      "needs_background": "light"
     },
     "output_type": "display_data"
    }
   ],
   "source": [
    "plot_price_change(rf_df)\n",
    "plot_corr(rf_df)"
   ]
  },
  {
   "cell_type": "code",
   "execution_count": 179,
   "metadata": {},
   "outputs": [
    {
     "data": {
      "image/png": "[encoded data removed]",
      "text/plain": [
       "<Figure size 648x360 with 1 Axes>"
      ]
     },
     "metadata": {
      "needs_background": "light"
     },
     "output_type": "display_data"
    },
    {
     "data": {
      "text/plain": [
       "<Figure size 432x288 with 0 Axes>"
      ]
     },
     "metadata": {},
     "output_type": "display_data"
    }
   ],
   "source": [
    "plot_profits(svm_df,'svm')\n",
    "#plot_corr(svm_df)\n",
    "#plot_price_change(svm_df)"
   ]
  },
  {
   "cell_type": "code",
   "execution_count": null,
   "metadata": {},
   "outputs": [],
   "source": [
    "#train the knn model and return the df\n",
    "knn = train_and_compile(experimental_tickers, 'knn')\n",
    "knn_df = knn.T"
   ]
  },
  {
   "cell_type": "code",
   "execution_count": 181,
   "metadata": {},
   "outputs": [
    {
     "data": {
      "image/png": "[encoded data removed]",
      "text/plain": [
       "<Figure size 648x360 with 1 Axes>"
      ]
     },
     "metadata": {
      "needs_background": "light"
     },
     "output_type": "display_data"
    },
    {
     "data": {
      "text/plain": [
       "<Figure size 432x288 with 0 Axes>"
      ]
     },
     "metadata": {},
     "output_type": "display_data"
    }
   ],
   "source": [
    "plot_profits(knn_df, 'knn')"
   ]
  },
  {
   "cell_type": "code",
   "execution_count": 27,
   "metadata": {},
   "outputs": [
    {
     "name": "stdout",
     "output_type": "stream",
     "text": [
      "data spread: Counter({'1': 2237, '-1': 2047, '0': 561})\n"
     ]
    },
    {
     "name": "stderr",
     "output_type": "stream",
     "text": [
      "C:\\Users\\ow7ks\\Anaconda3\\envs\\tf_gpu\\lib\\site-packages\\sklearn\\ensemble\\forest.py:246: FutureWarning: The default value of n_estimators will change from 10 in version 0.20 to 100 in 0.22.\n",
      "  \"10 in version 0.20 to 100 in 0.22.\", FutureWarning)\n"
     ]
    },
    {
     "name": "stdout",
     "output_type": "stream",
     "text": [
      "data spread: Counter({'0': 1911, '1': 1522, '-1': 1412})\n"
     ]
    },
    {
     "name": "stderr",
     "output_type": "stream",
     "text": [
      "C:\\Users\\ow7ks\\Anaconda3\\envs\\tf_gpu\\lib\\site-packages\\sklearn\\ensemble\\forest.py:246: FutureWarning: The default value of n_estimators will change from 10 in version 0.20 to 100 in 0.22.\n",
      "  \"10 in version 0.20 to 100 in 0.22.\", FutureWarning)\n"
     ]
    },
    {
     "name": "stdout",
     "output_type": "stream",
     "text": [
      "data spread: Counter({'1': 2356, '-1': 1994, '0': 495})\n"
     ]
    },
    {
     "name": "stderr",
     "output_type": "stream",
     "text": [
      "C:\\Users\\ow7ks\\Anaconda3\\envs\\tf_gpu\\lib\\site-packages\\sklearn\\ensemble\\forest.py:246: FutureWarning: The default value of n_estimators will change from 10 in version 0.20 to 100 in 0.22.\n",
      "  \"10 in version 0.20 to 100 in 0.22.\", FutureWarning)\n"
     ]
    },
    {
     "name": "stdout",
     "output_type": "stream",
     "text": [
      "data spread: Counter({'1': 2143, '-1': 1847, '0': 855})\n"
     ]
    },
    {
     "name": "stderr",
     "output_type": "stream",
     "text": [
      "C:\\Users\\ow7ks\\Anaconda3\\envs\\tf_gpu\\lib\\site-packages\\sklearn\\ensemble\\forest.py:246: FutureWarning: The default value of n_estimators will change from 10 in version 0.20 to 100 in 0.22.\n",
      "  \"10 in version 0.20 to 100 in 0.22.\", FutureWarning)\n"
     ]
    },
    {
     "name": "stdout",
     "output_type": "stream",
     "text": [
      "data spread: Counter({'1': 2151, '-1': 1645, '0': 1049})\n"
     ]
    },
    {
     "name": "stderr",
     "output_type": "stream",
     "text": [
      "C:\\Users\\ow7ks\\Anaconda3\\envs\\tf_gpu\\lib\\site-packages\\sklearn\\ensemble\\forest.py:246: FutureWarning: The default value of n_estimators will change from 10 in version 0.20 to 100 in 0.22.\n",
      "  \"10 in version 0.20 to 100 in 0.22.\", FutureWarning)\n"
     ]
    },
    {
     "name": "stdout",
     "output_type": "stream",
     "text": [
      "data spread: Counter({'1': 2491, '-1': 2085, '0': 269})\n"
     ]
    },
    {
     "name": "stderr",
     "output_type": "stream",
     "text": [
      "C:\\Users\\ow7ks\\Anaconda3\\envs\\tf_gpu\\lib\\site-packages\\sklearn\\ensemble\\forest.py:246: FutureWarning: The default value of n_estimators will change from 10 in version 0.20 to 100 in 0.22.\n",
      "  \"10 in version 0.20 to 100 in 0.22.\", FutureWarning)\n"
     ]
    },
    {
     "name": "stdout",
     "output_type": "stream",
     "text": [
      "data spread: Counter({'1': 2290, '-1': 1946, '0': 609})\n"
     ]
    },
    {
     "name": "stderr",
     "output_type": "stream",
     "text": [
      "C:\\Users\\ow7ks\\Anaconda3\\envs\\tf_gpu\\lib\\site-packages\\sklearn\\ensemble\\forest.py:246: FutureWarning: The default value of n_estimators will change from 10 in version 0.20 to 100 in 0.22.\n",
      "  \"10 in version 0.20 to 100 in 0.22.\", FutureWarning)\n"
     ]
    },
    {
     "name": "stdout",
     "output_type": "stream",
     "text": [
      "data spread: Counter({'0': 2837, '1': 1157, '-1': 851})\n"
     ]
    },
    {
     "name": "stderr",
     "output_type": "stream",
     "text": [
      "C:\\Users\\ow7ks\\Anaconda3\\envs\\tf_gpu\\lib\\site-packages\\sklearn\\ensemble\\forest.py:246: FutureWarning: The default value of n_estimators will change from 10 in version 0.20 to 100 in 0.22.\n",
      "  \"10 in version 0.20 to 100 in 0.22.\", FutureWarning)\n"
     ]
    },
    {
     "name": "stdout",
     "output_type": "stream",
     "text": [
      "data spread: Counter({'0': 1921, '1': 1645, '-1': 1279})\n"
     ]
    },
    {
     "name": "stderr",
     "output_type": "stream",
     "text": [
      "C:\\Users\\ow7ks\\Anaconda3\\envs\\tf_gpu\\lib\\site-packages\\sklearn\\ensemble\\forest.py:246: FutureWarning: The default value of n_estimators will change from 10 in version 0.20 to 100 in 0.22.\n",
      "  \"10 in version 0.20 to 100 in 0.22.\", FutureWarning)\n"
     ]
    },
    {
     "name": "stdout",
     "output_type": "stream",
     "text": [
      "data spread: Counter({'1': 2320, '-1': 1698, '0': 827})\n"
     ]
    },
    {
     "name": "stderr",
     "output_type": "stream",
     "text": [
      "C:\\Users\\ow7ks\\Anaconda3\\envs\\tf_gpu\\lib\\site-packages\\sklearn\\ensemble\\forest.py:246: FutureWarning: The default value of n_estimators will change from 10 in version 0.20 to 100 in 0.22.\n",
      "  \"10 in version 0.20 to 100 in 0.22.\", FutureWarning)\n"
     ]
    },
    {
     "name": "stdout",
     "output_type": "stream",
     "text": [
      "data spread: Counter({'1': 2374, '-1': 1914, '0': 557})\n"
     ]
    },
    {
     "name": "stderr",
     "output_type": "stream",
     "text": [
      "C:\\Users\\ow7ks\\Anaconda3\\envs\\tf_gpu\\lib\\site-packages\\sklearn\\ensemble\\forest.py:246: FutureWarning: The default value of n_estimators will change from 10 in version 0.20 to 100 in 0.22.\n",
      "  \"10 in version 0.20 to 100 in 0.22.\", FutureWarning)\n"
     ]
    },
    {
     "name": "stdout",
     "output_type": "stream",
     "text": [
      "data spread: Counter({'1': 2270, '-1': 1869, '0': 706})\n"
     ]
    },
    {
     "name": "stderr",
     "output_type": "stream",
     "text": [
      "C:\\Users\\ow7ks\\Anaconda3\\envs\\tf_gpu\\lib\\site-packages\\sklearn\\ensemble\\forest.py:246: FutureWarning: The default value of n_estimators will change from 10 in version 0.20 to 100 in 0.22.\n",
      "  \"10 in version 0.20 to 100 in 0.22.\", FutureWarning)\n"
     ]
    },
    {
     "name": "stdout",
     "output_type": "stream",
     "text": [
      "data spread: Counter({'1': 2032, '-1': 1777, '0': 1036})\n"
     ]
    },
    {
     "name": "stderr",
     "output_type": "stream",
     "text": [
      "C:\\Users\\ow7ks\\Anaconda3\\envs\\tf_gpu\\lib\\site-packages\\sklearn\\ensemble\\forest.py:246: FutureWarning: The default value of n_estimators will change from 10 in version 0.20 to 100 in 0.22.\n",
      "  \"10 in version 0.20 to 100 in 0.22.\", FutureWarning)\n"
     ]
    },
    {
     "name": "stdout",
     "output_type": "stream",
     "text": [
      "data spread: Counter({'0': 1984, '1': 1581, '-1': 1280})\n"
     ]
    },
    {
     "name": "stderr",
     "output_type": "stream",
     "text": [
      "C:\\Users\\ow7ks\\Anaconda3\\envs\\tf_gpu\\lib\\site-packages\\sklearn\\ensemble\\forest.py:246: FutureWarning: The default value of n_estimators will change from 10 in version 0.20 to 100 in 0.22.\n",
      "  \"10 in version 0.20 to 100 in 0.22.\", FutureWarning)\n"
     ]
    },
    {
     "name": "stdout",
     "output_type": "stream",
     "text": [
      "data spread: Counter({'1': 2198, '-1': 1643, '0': 1004})\n"
     ]
    },
    {
     "name": "stderr",
     "output_type": "stream",
     "text": [
      "C:\\Users\\ow7ks\\Anaconda3\\envs\\tf_gpu\\lib\\site-packages\\sklearn\\ensemble\\forest.py:246: FutureWarning: The default value of n_estimators will change from 10 in version 0.20 to 100 in 0.22.\n",
      "  \"10 in version 0.20 to 100 in 0.22.\", FutureWarning)\n"
     ]
    },
    {
     "name": "stdout",
     "output_type": "stream",
     "text": [
      "data spread: Counter({'1': 1863, '-1': 1574, '0': 1408})\n"
     ]
    },
    {
     "name": "stderr",
     "output_type": "stream",
     "text": [
      "C:\\Users\\ow7ks\\Anaconda3\\envs\\tf_gpu\\lib\\site-packages\\sklearn\\ensemble\\forest.py:246: FutureWarning: The default value of n_estimators will change from 10 in version 0.20 to 100 in 0.22.\n",
      "  \"10 in version 0.20 to 100 in 0.22.\", FutureWarning)\n"
     ]
    },
    {
     "name": "stdout",
     "output_type": "stream",
     "text": [
      "data spread: Counter({'1': 1923, '0': 1540, '-1': 1382})\n"
     ]
    },
    {
     "name": "stderr",
     "output_type": "stream",
     "text": [
      "C:\\Users\\ow7ks\\Anaconda3\\envs\\tf_gpu\\lib\\site-packages\\sklearn\\ensemble\\forest.py:246: FutureWarning: The default value of n_estimators will change from 10 in version 0.20 to 100 in 0.22.\n",
      "  \"10 in version 0.20 to 100 in 0.22.\", FutureWarning)\n"
     ]
    },
    {
     "name": "stdout",
     "output_type": "stream",
     "text": [
      "data spread: Counter({'1': 2398, '-1': 1990, '0': 457})\n"
     ]
    },
    {
     "name": "stderr",
     "output_type": "stream",
     "text": [
      "C:\\Users\\ow7ks\\Anaconda3\\envs\\tf_gpu\\lib\\site-packages\\sklearn\\ensemble\\forest.py:246: FutureWarning: The default value of n_estimators will change from 10 in version 0.20 to 100 in 0.22.\n",
      "  \"10 in version 0.20 to 100 in 0.22.\", FutureWarning)\n"
     ]
    }
   ],
   "source": [
    "voting = train_and_compile(experimental_tickers, 'Voting')\n",
    "voting_df = voting.T"
   ]
  },
  {
   "cell_type": "code",
   "execution_count": 28,
   "metadata": {},
   "outputs": [
    {
     "data": {
      "image/png": "[encoded data removed]",
      "text/plain": [
       "<Figure size 648x360 with 1 Axes>"
      ]
     },
     "metadata": {
      "needs_background": "light"
     },
     "output_type": "display_data"
    },
    {
     "data": {
      "text/plain": [
       "<Figure size 432x288 with 0 Axes>"
      ]
     },
     "metadata": {},
     "output_type": "display_data"
    }
   ],
   "source": [
    "plot_profits(voting_df, 'voting')"
   ]
  },
  {
   "cell_type": "code",
   "execution_count": 37,
   "metadata": {},
   "outputs": [
    {
     "name": "stdout",
     "output_type": "stream",
     "text": [
      "data spread: Counter({'1': 2237, '-1': 2047, '0': 561})\n"
     ]
    },
    {
     "name": "stderr",
     "output_type": "stream",
     "text": [
      "C:\\Users\\ow7ks\\Anaconda3\\envs\\tf_gpu\\lib\\site-packages\\sklearn\\ensemble\\forest.py:246: FutureWarning: The default value of n_estimators will change from 10 in version 0.20 to 100 in 0.22.\n",
      "  \"10 in version 0.20 to 100 in 0.22.\", FutureWarning)\n"
     ]
    },
    {
     "name": "stdout",
     "output_type": "stream",
     "text": [
      "data spread: Counter({'0': 1911, '1': 1522, '-1': 1412})\n"
     ]
    },
    {
     "name": "stderr",
     "output_type": "stream",
     "text": [
      "C:\\Users\\ow7ks\\Anaconda3\\envs\\tf_gpu\\lib\\site-packages\\sklearn\\ensemble\\forest.py:246: FutureWarning: The default value of n_estimators will change from 10 in version 0.20 to 100 in 0.22.\n",
      "  \"10 in version 0.20 to 100 in 0.22.\", FutureWarning)\n"
     ]
    },
    {
     "name": "stdout",
     "output_type": "stream",
     "text": [
      "data spread: Counter({'1': 2356, '-1': 1994, '0': 495})\n"
     ]
    },
    {
     "name": "stderr",
     "output_type": "stream",
     "text": [
      "C:\\Users\\ow7ks\\Anaconda3\\envs\\tf_gpu\\lib\\site-packages\\sklearn\\ensemble\\forest.py:246: FutureWarning: The default value of n_estimators will change from 10 in version 0.20 to 100 in 0.22.\n",
      "  \"10 in version 0.20 to 100 in 0.22.\", FutureWarning)\n"
     ]
    },
    {
     "name": "stdout",
     "output_type": "stream",
     "text": [
      "data spread: Counter({'1': 2143, '-1': 1847, '0': 855})\n"
     ]
    },
    {
     "name": "stderr",
     "output_type": "stream",
     "text": [
      "C:\\Users\\ow7ks\\Anaconda3\\envs\\tf_gpu\\lib\\site-packages\\sklearn\\ensemble\\forest.py:246: FutureWarning: The default value of n_estimators will change from 10 in version 0.20 to 100 in 0.22.\n",
      "  \"10 in version 0.20 to 100 in 0.22.\", FutureWarning)\n"
     ]
    },
    {
     "name": "stdout",
     "output_type": "stream",
     "text": [
      "data spread: Counter({'1': 2151, '-1': 1645, '0': 1049})\n"
     ]
    },
    {
     "name": "stderr",
     "output_type": "stream",
     "text": [
      "C:\\Users\\ow7ks\\Anaconda3\\envs\\tf_gpu\\lib\\site-packages\\sklearn\\ensemble\\forest.py:246: FutureWarning: The default value of n_estimators will change from 10 in version 0.20 to 100 in 0.22.\n",
      "  \"10 in version 0.20 to 100 in 0.22.\", FutureWarning)\n"
     ]
    },
    {
     "name": "stdout",
     "output_type": "stream",
     "text": [
      "data spread: Counter({'1': 2491, '-1': 2085, '0': 269})\n"
     ]
    },
    {
     "name": "stderr",
     "output_type": "stream",
     "text": [
      "C:\\Users\\ow7ks\\Anaconda3\\envs\\tf_gpu\\lib\\site-packages\\sklearn\\ensemble\\forest.py:246: FutureWarning: The default value of n_estimators will change from 10 in version 0.20 to 100 in 0.22.\n",
      "  \"10 in version 0.20 to 100 in 0.22.\", FutureWarning)\n"
     ]
    },
    {
     "name": "stdout",
     "output_type": "stream",
     "text": [
      "data spread: Counter({'1': 2290, '-1': 1946, '0': 609})\n"
     ]
    },
    {
     "name": "stderr",
     "output_type": "stream",
     "text": [
      "C:\\Users\\ow7ks\\Anaconda3\\envs\\tf_gpu\\lib\\site-packages\\sklearn\\ensemble\\forest.py:246: FutureWarning: The default value of n_estimators will change from 10 in version 0.20 to 100 in 0.22.\n",
      "  \"10 in version 0.20 to 100 in 0.22.\", FutureWarning)\n"
     ]
    },
    {
     "name": "stdout",
     "output_type": "stream",
     "text": [
      "data spread: Counter({'0': 2837, '1': 1157, '-1': 851})\n"
     ]
    },
    {
     "name": "stderr",
     "output_type": "stream",
     "text": [
      "C:\\Users\\ow7ks\\Anaconda3\\envs\\tf_gpu\\lib\\site-packages\\sklearn\\ensemble\\forest.py:246: FutureWarning: The default value of n_estimators will change from 10 in version 0.20 to 100 in 0.22.\n",
      "  \"10 in version 0.20 to 100 in 0.22.\", FutureWarning)\n"
     ]
    },
    {
     "name": "stdout",
     "output_type": "stream",
     "text": [
      "data spread: Counter({'0': 1921, '1': 1645, '-1': 1279})\n"
     ]
    },
    {
     "name": "stderr",
     "output_type": "stream",
     "text": [
      "C:\\Users\\ow7ks\\Anaconda3\\envs\\tf_gpu\\lib\\site-packages\\sklearn\\ensemble\\forest.py:246: FutureWarning: The default value of n_estimators will change from 10 in version 0.20 to 100 in 0.22.\n",
      "  \"10 in version 0.20 to 100 in 0.22.\", FutureWarning)\n"
     ]
    },
    {
     "name": "stdout",
     "output_type": "stream",
     "text": [
      "data spread: Counter({'1': 2320, '-1': 1698, '0': 827})\n"
     ]
    },
    {
     "name": "stderr",
     "output_type": "stream",
     "text": [
      "C:\\Users\\ow7ks\\Anaconda3\\envs\\tf_gpu\\lib\\site-packages\\sklearn\\ensemble\\forest.py:246: FutureWarning: The default value of n_estimators will change from 10 in version 0.20 to 100 in 0.22.\n",
      "  \"10 in version 0.20 to 100 in 0.22.\", FutureWarning)\n"
     ]
    },
    {
     "name": "stdout",
     "output_type": "stream",
     "text": [
      "data spread: Counter({'1': 2374, '-1': 1914, '0': 557})\n"
     ]
    },
    {
     "name": "stderr",
     "output_type": "stream",
     "text": [
      "C:\\Users\\ow7ks\\Anaconda3\\envs\\tf_gpu\\lib\\site-packages\\sklearn\\ensemble\\forest.py:246: FutureWarning: The default value of n_estimators will change from 10 in version 0.20 to 100 in 0.22.\n",
      "  \"10 in version 0.20 to 100 in 0.22.\", FutureWarning)\n"
     ]
    },
    {
     "name": "stdout",
     "output_type": "stream",
     "text": [
      "data spread: Counter({'1': 2270, '-1': 1869, '0': 706})\n"
     ]
    },
    {
     "name": "stderr",
     "output_type": "stream",
     "text": [
      "C:\\Users\\ow7ks\\Anaconda3\\envs\\tf_gpu\\lib\\site-packages\\sklearn\\ensemble\\forest.py:246: FutureWarning: The default value of n_estimators will change from 10 in version 0.20 to 100 in 0.22.\n",
      "  \"10 in version 0.20 to 100 in 0.22.\", FutureWarning)\n"
     ]
    },
    {
     "name": "stdout",
     "output_type": "stream",
     "text": [
      "data spread: Counter({'1': 2032, '-1': 1777, '0': 1036})\n"
     ]
    },
    {
     "name": "stderr",
     "output_type": "stream",
     "text": [
      "C:\\Users\\ow7ks\\Anaconda3\\envs\\tf_gpu\\lib\\site-packages\\sklearn\\ensemble\\forest.py:246: FutureWarning: The default value of n_estimators will change from 10 in version 0.20 to 100 in 0.22.\n",
      "  \"10 in version 0.20 to 100 in 0.22.\", FutureWarning)\n"
     ]
    },
    {
     "name": "stdout",
     "output_type": "stream",
     "text": [
      "data spread: Counter({'0': 1984, '1': 1581, '-1': 1280})\n"
     ]
    },
    {
     "name": "stderr",
     "output_type": "stream",
     "text": [
      "C:\\Users\\ow7ks\\Anaconda3\\envs\\tf_gpu\\lib\\site-packages\\sklearn\\ensemble\\forest.py:246: FutureWarning: The default value of n_estimators will change from 10 in version 0.20 to 100 in 0.22.\n",
      "  \"10 in version 0.20 to 100 in 0.22.\", FutureWarning)\n"
     ]
    },
    {
     "name": "stdout",
     "output_type": "stream",
     "text": [
      "data spread: Counter({'1': 2198, '-1': 1643, '0': 1004})\n"
     ]
    },
    {
     "name": "stderr",
     "output_type": "stream",
     "text": [
      "C:\\Users\\ow7ks\\Anaconda3\\envs\\tf_gpu\\lib\\site-packages\\sklearn\\ensemble\\forest.py:246: FutureWarning: The default value of n_estimators will change from 10 in version 0.20 to 100 in 0.22.\n",
      "  \"10 in version 0.20 to 100 in 0.22.\", FutureWarning)\n"
     ]
    },
    {
     "name": "stdout",
     "output_type": "stream",
     "text": [
      "data spread: Counter({'1': 1863, '-1': 1574, '0': 1408})\n"
     ]
    },
    {
     "name": "stderr",
     "output_type": "stream",
     "text": [
      "C:\\Users\\ow7ks\\Anaconda3\\envs\\tf_gpu\\lib\\site-packages\\sklearn\\ensemble\\forest.py:246: FutureWarning: The default value of n_estimators will change from 10 in version 0.20 to 100 in 0.22.\n",
      "  \"10 in version 0.20 to 100 in 0.22.\", FutureWarning)\n"
     ]
    },
    {
     "name": "stdout",
     "output_type": "stream",
     "text": [
      "data spread: Counter({'1': 1923, '0': 1540, '-1': 1382})\n"
     ]
    },
    {
     "name": "stderr",
     "output_type": "stream",
     "text": [
      "C:\\Users\\ow7ks\\Anaconda3\\envs\\tf_gpu\\lib\\site-packages\\sklearn\\ensemble\\forest.py:246: FutureWarning: The default value of n_estimators will change from 10 in version 0.20 to 100 in 0.22.\n",
      "  \"10 in version 0.20 to 100 in 0.22.\", FutureWarning)\n"
     ]
    },
    {
     "name": "stdout",
     "output_type": "stream",
     "text": [
      "data spread: Counter({'1': 2398, '-1': 1990, '0': 457})\n"
     ]
    },
    {
     "name": "stderr",
     "output_type": "stream",
     "text": [
      "C:\\Users\\ow7ks\\Anaconda3\\envs\\tf_gpu\\lib\\site-packages\\sklearn\\ensemble\\forest.py:246: FutureWarning: The default value of n_estimators will change from 10 in version 0.20 to 100 in 0.22.\n",
      "  \"10 in version 0.20 to 100 in 0.22.\", FutureWarning)\n"
     ]
    }
   ],
   "source": [
    "rf = train_and_compile(experimental_tickers, 'rf')\n",
    "rf_df = rf.T"
   ]
  },
  {
   "cell_type": "code",
   "execution_count": 38,
   "metadata": {},
   "outputs": [
    {
     "data": {
      "image/png": "[encoded data removed]",
      "text/plain": [
       "<Figure size 648x360 with 1 Axes>"
      ]
     },
     "metadata": {
      "needs_background": "light"
     },
     "output_type": "display_data"
    },
    {
     "data": {
      "text/plain": [
       "<Figure size 432x288 with 0 Axes>"
      ]
     },
     "metadata": {},
     "output_type": "display_data"
    }
   ],
   "source": [
    "plot_profits(rf_df,'rf')"
   ]
  },
  {
   "cell_type": "code",
   "execution_count": 46,
   "metadata": {},
   "outputs": [
    {
     "data": {
      "image/png": "[encoded data removed]",
      "text/plain": [
       "<Figure size 648x360 with 1 Axes>"
      ]
     },
     "metadata": {
      "needs_background": "light"
     },
     "output_type": "display_data"
    }
   ],
   "source": [
    "plot_price_change(rf_df)"
   ]
  },
  {
   "cell_type": "code",
   "execution_count": 12,
   "metadata": {},
   "outputs": [
    {
     "name": "stdout",
     "output_type": "stream",
     "text": [
      "actual spread: Counter({1: 503, -1: 389, 0: 320})\n"
     ]
    }
   ],
   "source": []
  }
 ],
 "metadata": {
  "kernelspec": {
   "display_name": "Python 3",
   "language": "python",
   "name": "python3"
  },
  "language_info": {
   "codemirror_mode": {
    "name": "ipython",
    "version": 3
   },
   "file_extension": ".py",
   "mimetype": "text/x-python",
   "name": "python",
   "nbconvert_exporter": "python",
   "pygments_lexer": "ipython3",
   "version": "3.6.7"
  }
 },
 "nbformat": 4,
 "nbformat_minor": 2
}
