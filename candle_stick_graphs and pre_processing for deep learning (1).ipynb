{
 "cells": [
  {
   "cell_type": "code",
   "execution_count": 1,
   "metadata": {},
   "outputs": [],
   "source": [
    "import pandas as pd\n",
    "import numpy as np\n",
    "import os\n",
    "import matplotlib.pyplot as plt\n",
    "from mpl_finance import candlestick_ohlc\n",
    "import matplotlib.dates as mdates\n",
    "from matplotlib import style\n",
    "import datetime as dt"
   ]
  },
  {
   "cell_type": "code",
   "execution_count": 2,
   "metadata": {},
   "outputs": [],
   "source": [
    "#load the data\n",
    "path = \"C:\\\\Users\\\\ow7ks\\\\Desktop\"\n",
    "os.getcwd()\n",
    "os.chdir(path)\n",
    "data = pd.read_excel('list1.xlsx',parse_dates= True, index_col = 1)\n",
    "data = pd.DataFrame(data)"
   ]
  },
  {
   "cell_type": "code",
   "execution_count": 3,
   "metadata": {},
   "outputs": [],
   "source": [
    "#delete the unnecessary columns,leave only apple\n",
    "del data['PERMNO']\n",
    "del data['Names Ending Date']\n",
    "del data['Share Code'], data['Exchange Code']\n",
    "del data['Standard Industrial Classification Code'], data['CUSIP'], data['Share Class'], data['Trading Symbol']\n",
    "del data['North American Industry Classification System'], data['Primary Exchange'],data['Trading Status'],data['Security Status'],\n",
    "del data['PERMCO'],data['Nasdaq Issue Number'],data['Exchange Code Header'],data['Standard Industrial Classification Code.1'],data['CUSIP Header'],\n",
    "del data['Declaration Date'],data['Amount After Delisting'], data['Date of Delisting Payment'],data['Delisting Code'],data['Date of Next Available Information'],\n",
    "del data['Payment Date'],data['Record Date'],data['Number of Shares Outstanding'],data['Header SIC Major Gorup'],data['Header SIC Industry Group'],\n",
    "del data['Distribution Code'],data['Acquiring PERMCO'],data['Acquiring PERMNO']\n",
    "del data['New PERMNO'], data['Nasdaq Traits Code'], data['Nasdaq National Market Indicator'],data['Nasd Index Code']\n",
    "\n",
    "data.columns\n",
    "apple = data.loc[data['Ticker Symbol'] == 'AAPL']"
   ]
  },
  {
   "cell_type": "code",
   "execution_count": 4,
   "metadata": {},
   "outputs": [
    {
     "data": {
      "text/plain": [
       "Index(['Ticker Symbol', 'Company Name', 'Dividend Cash Amount',\n",
       "       'Factor to Adjust Price', 'Factor to Adjust Shares',\n",
       "       'Delisting Return Without Dividends', 'Delisting Price',\n",
       "       'Delisting Return', 'Market Maker Count', 'Bid or Low Price',\n",
       "       'Ask or High Price', 'Price or Bid/Ask Average', 'Volume', 'Returns',\n",
       "       'Bid', 'Ask', 'Shares Outstanding',\n",
       "       'Cumulative Factor to Adjust Prices',\n",
       "       'Cumulative Factor to Adjust Shares/Vol', 'Price Alternate',\n",
       "       'NASDAQ Number of Trades', 'Returns without Dividends',\n",
       "       'Value-Weighted Return-incl. dividends',\n",
       "       'Value-Weighted Return-excl. dividends',\n",
       "       'Equal-Weighted Return-incl. dividends',\n",
       "       'Equal-Weighted Return-excl. dividends', 'Return on the S&P 500 Index'],\n",
       "      dtype='object')"
      ]
     },
     "execution_count": 4,
     "metadata": {},
     "output_type": "execute_result"
    }
   ],
   "source": [
    "apple.columns"
   ]
  },
  {
   "cell_type": "code",
   "execution_count": 5,
   "metadata": {},
   "outputs": [
    {
     "data": {
      "text/plain": [
       "[0, 2.65, 3.05, 3.29, 0.0, 0.47, 0.52, 0.57, 0.63, 0.73]"
      ]
     },
     "execution_count": 5,
     "metadata": {},
     "output_type": "execute_result"
    }
   ],
   "source": [
    "#check the dividends\n",
    "dividends = [0]\n",
    "for i in range(len(apple.index)):\n",
    "    if apple['Dividend Cash Amount'].notnull()[i]:\n",
    "        #print(apple['Dividend Cash Amount'][i],apple.index[i])\n",
    "        if apple['Dividend Cash Amount'][i] != dividends[-1]:\n",
    "            dividends.append(apple['Dividend Cash Amount'][i])\n",
    "dividends"
   ]
  },
  {
   "cell_type": "code",
   "execution_count": 6,
   "metadata": {},
   "outputs": [
    {
     "name": "stderr",
     "output_type": "stream",
     "text": [
      "C:\\Users\\ow7ks\\Anaconda3\\envs\\tf_gpu\\lib\\site-packages\\ipykernel_launcher.py:4: SettingWithCopyWarning: \n",
      "A value is trying to be set on a copy of a slice from a DataFrame\n",
      "\n",
      "See the caveats in the documentation: http://pandas.pydata.org/pandas-docs/stable/indexing.html#indexing-view-versus-copy\n",
      "  after removing the cwd from sys.path.\n",
      "C:\\Users\\ow7ks\\Anaconda3\\envs\\tf_gpu\\lib\\site-packages\\IPython\\core\\interactiveshell.py:3267: SettingWithCopyWarning: \n",
      "A value is trying to be set on a copy of a slice from a DataFrame\n",
      "\n",
      "See the caveats in the documentation: http://pandas.pydata.org/pandas-docs/stable/indexing.html#indexing-view-versus-copy\n",
      "  exec(code_obj, self.user_global_ns, self.user_ns)\n",
      "C:\\Users\\ow7ks\\Anaconda3\\envs\\tf_gpu\\lib\\site-packages\\ipykernel_launcher.py:6: SettingWithCopyWarning: \n",
      "A value is trying to be set on a copy of a slice from a DataFrame\n",
      "\n",
      "See the caveats in the documentation: http://pandas.pydata.org/pandas-docs/stable/indexing.html#indexing-view-versus-copy\n",
      "  \n",
      "C:\\Users\\ow7ks\\Anaconda3\\envs\\tf_gpu\\lib\\site-packages\\ipykernel_launcher.py:8: SettingWithCopyWarning: \n",
      "A value is trying to be set on a copy of a slice from a DataFrame\n",
      "\n",
      "See the caveats in the documentation: http://pandas.pydata.org/pandas-docs/stable/indexing.html#indexing-view-versus-copy\n",
      "  \n",
      "C:\\Users\\ow7ks\\Anaconda3\\envs\\tf_gpu\\lib\\site-packages\\ipykernel_launcher.py:10: SettingWithCopyWarning: \n",
      "A value is trying to be set on a copy of a slice from a DataFrame\n",
      "\n",
      "See the caveats in the documentation: http://pandas.pydata.org/pandas-docs/stable/indexing.html#indexing-view-versus-copy\n",
      "  # Remove the CWD from sys.path while we load stuff.\n",
      "C:\\Users\\ow7ks\\Anaconda3\\envs\\tf_gpu\\lib\\site-packages\\ipykernel_launcher.py:12: SettingWithCopyWarning: \n",
      "A value is trying to be set on a copy of a slice from a DataFrame\n",
      "\n",
      "See the caveats in the documentation: http://pandas.pydata.org/pandas-docs/stable/indexing.html#indexing-view-versus-copy\n",
      "  if sys.path[0] == '':\n",
      "C:\\Users\\ow7ks\\Anaconda3\\envs\\tf_gpu\\lib\\site-packages\\ipykernel_launcher.py:14: SettingWithCopyWarning: \n",
      "A value is trying to be set on a copy of a slice from a DataFrame\n",
      "\n",
      "See the caveats in the documentation: http://pandas.pydata.org/pandas-docs/stable/indexing.html#indexing-view-versus-copy\n",
      "  \n",
      "C:\\Users\\ow7ks\\Anaconda3\\envs\\tf_gpu\\lib\\site-packages\\ipykernel_launcher.py:16: SettingWithCopyWarning: \n",
      "A value is trying to be set on a copy of a slice from a DataFrame\n",
      "\n",
      "See the caveats in the documentation: http://pandas.pydata.org/pandas-docs/stable/indexing.html#indexing-view-versus-copy\n",
      "  app.launch_new_instance()\n",
      "C:\\Users\\ow7ks\\Anaconda3\\envs\\tf_gpu\\lib\\site-packages\\ipykernel_launcher.py:18: SettingWithCopyWarning: \n",
      "A value is trying to be set on a copy of a slice from a DataFrame\n",
      "\n",
      "See the caveats in the documentation: http://pandas.pydata.org/pandas-docs/stable/indexing.html#indexing-view-versus-copy\n",
      "C:\\Users\\ow7ks\\Anaconda3\\envs\\tf_gpu\\lib\\site-packages\\ipykernel_launcher.py:20: SettingWithCopyWarning: \n",
      "A value is trying to be set on a copy of a slice from a DataFrame\n",
      "\n",
      "See the caveats in the documentation: http://pandas.pydata.org/pandas-docs/stable/indexing.html#indexing-view-versus-copy\n",
      "C:\\Users\\ow7ks\\Anaconda3\\envs\\tf_gpu\\lib\\site-packages\\ipykernel_launcher.py:22: SettingWithCopyWarning: \n",
      "A value is trying to be set on a copy of a slice from a DataFrame\n",
      "\n",
      "See the caveats in the documentation: http://pandas.pydata.org/pandas-docs/stable/indexing.html#indexing-view-versus-copy\n"
     ]
    }
   ],
   "source": [
    "#give every day a dividend feature based on its previous pay day\n",
    "for i in range(len(apple.index)):\n",
    "    if apple.index[i] < dt.datetime(2012,8,9):\n",
    "        apple['Dividend Cash Amount'][i] = dividends[0]\n",
    "    elif apple.index[i] < dt.datetime(2013,5,9):\n",
    "        apple['Dividend Cash Amount'][i] = dividends[1]\n",
    "    elif apple.index[i] < dt.datetime(2014,5,8):\n",
    "        apple['Dividend Cash Amount'][i] = dividends[2]\n",
    "    elif apple.index[i] < dt.datetime(2014,6,9):\n",
    "        apple['Dividend Cash Amount'][i] = dividends[3]\n",
    "    elif apple.index[i] < dt.datetime(2014,8,7):\n",
    "        apple['Dividend Cash Amount'][i] = dividends[4]\n",
    "    elif apple.index[i] < dt.datetime(2015,5,7):\n",
    "        apple['Dividend Cash Amount'][i] = dividends[5]\n",
    "    elif apple.index[i] < dt.datetime(2016,5,5):\n",
    "        apple['Dividend Cash Amount'][i] = dividends[6]\n",
    "    elif apple.index[i] < dt.datetime(2017,5,11):\n",
    "        apple['Dividend Cash Amount'][i] = dividends[7]\n",
    "    elif apple.index[i] < dt.datetime(2018,5,11):\n",
    "        apple['Dividend Cash Amount'][i] = dividends[8]\n",
    "    else:\n",
    "        apple['Dividend Cash Amount'][i] = dividends[9]"
   ]
  },
  {
   "cell_type": "code",
   "execution_count": 7,
   "metadata": {},
   "outputs": [
    {
     "name": "stdout",
     "output_type": "stream",
     "text": [
      "2005-02-28 00:00:00 1.0 88.99 44.86\n",
      "2014-06-09 00:00:00 6.0 645.57001 93.7\n"
     ]
    }
   ],
   "source": [
    "#check for stock splits\n",
    "for i in range(len(apple['Factor to Adjust Shares'])):\n",
    "    if apple['Factor to Adjust Shares'].notnull()[i] == True and apple['Factor to Adjust Shares'][i] > 0:\n",
    "        print(apple.index[i], apple['Factor to Adjust Shares'][i],apple['Price or Bid/Ask Average'][i-1],apple['Price or Bid/Ask Average'][i])"
   ]
  },
  {
   "cell_type": "code",
   "execution_count": 8,
   "metadata": {},
   "outputs": [
    {
     "name": "stderr",
     "output_type": "stream",
     "text": [
      "C:\\Users\\ow7ks\\Anaconda3\\envs\\tf_gpu\\lib\\site-packages\\ipykernel_launcher.py:5: SettingWithCopyWarning: \n",
      "A value is trying to be set on a copy of a slice from a DataFrame\n",
      "\n",
      "See the caveats in the documentation: http://pandas.pydata.org/pandas-docs/stable/indexing.html#indexing-view-versus-copy\n",
      "  \"\"\"\n",
      "C:\\Users\\ow7ks\\Anaconda3\\envs\\tf_gpu\\lib\\site-packages\\ipykernel_launcher.py:6: SettingWithCopyWarning: \n",
      "A value is trying to be set on a copy of a slice from a DataFrame\n",
      "\n",
      "See the caveats in the documentation: http://pandas.pydata.org/pandas-docs/stable/indexing.html#indexing-view-versus-copy\n",
      "  \n",
      "C:\\Users\\ow7ks\\Anaconda3\\envs\\tf_gpu\\lib\\site-packages\\ipykernel_launcher.py:7: SettingWithCopyWarning: \n",
      "A value is trying to be set on a copy of a slice from a DataFrame\n",
      "\n",
      "See the caveats in the documentation: http://pandas.pydata.org/pandas-docs/stable/indexing.html#indexing-view-versus-copy\n",
      "  import sys\n",
      "C:\\Users\\ow7ks\\Anaconda3\\envs\\tf_gpu\\lib\\site-packages\\ipykernel_launcher.py:9: SettingWithCopyWarning: \n",
      "A value is trying to be set on a copy of a slice from a DataFrame\n",
      "\n",
      "See the caveats in the documentation: http://pandas.pydata.org/pandas-docs/stable/indexing.html#indexing-view-versus-copy\n",
      "  if __name__ == '__main__':\n",
      "C:\\Users\\ow7ks\\Anaconda3\\envs\\tf_gpu\\lib\\site-packages\\ipykernel_launcher.py:10: SettingWithCopyWarning: \n",
      "A value is trying to be set on a copy of a slice from a DataFrame\n",
      "\n",
      "See the caveats in the documentation: http://pandas.pydata.org/pandas-docs/stable/indexing.html#indexing-view-versus-copy\n",
      "  # Remove the CWD from sys.path while we load stuff.\n",
      "C:\\Users\\ow7ks\\Anaconda3\\envs\\tf_gpu\\lib\\site-packages\\ipykernel_launcher.py:11: SettingWithCopyWarning: \n",
      "A value is trying to be set on a copy of a slice from a DataFrame\n",
      "\n",
      "See the caveats in the documentation: http://pandas.pydata.org/pandas-docs/stable/indexing.html#indexing-view-versus-copy\n",
      "  # This is added back by InteractiveShellApp.init_path()\n"
     ]
    }
   ],
   "source": [
    "#adjust the stock price to its afterwards\n",
    "\n",
    "for i in range(len(apple.index)):\n",
    "    if apple.index[i] < dt.datetime(2005,2,28):\n",
    "        apple['Price or Bid/Ask Average'][i] = apple['Price or Bid/Ask Average'][i] // 12\n",
    "        apple['Ask or High Price'][i] = apple['Ask or High Price'][i]//12\n",
    "        apple['Bid or Low Price'][i] = apple['Bid or Low Price'][i]//12\n",
    "    elif apple.index[i] < dt.datetime(2014,6,9):\n",
    "        apple['Price or Bid/Ask Average'][i] = apple['Price or Bid/Ask Average'][i] // 6\n",
    "        apple['Ask or High Price'][i] = apple['Ask or High Price'][i]//6\n",
    "        apple['Bid or Low Price'][i] = apple['Bid or Low Price'][i]//6\n",
    "        "
   ]
  },
  {
   "cell_type": "code",
   "execution_count": 9,
   "metadata": {},
   "outputs": [],
   "source": [
    "#define the visualizing function\n",
    "def candle_stick(ticker):\n",
    "    df_ohlc = ticker['Ask or High Price'].resample('10D').ohlc()\n",
    "    df_volume = ticker['Volume'].resample('10D').sum()\n",
    "    df_ohlc.reset_index(inplace = True)\n",
    "    df_ohlc['Names Date'] = df_ohlc['Names Date'].map(mdates.date2num)\n",
    "    ax1 = plt.subplot2grid((6,1),(0,0), rowspan= 5, colspan=1)\n",
    "    ax2 = plt.subplot2grid((6,1),(5,0), rowspan= 1, colspan=1, sharex = ax1)\n",
    "    ax1.xaxis_date()\n",
    "\n",
    "    candlestick_ohlc(ax1, df_ohlc.values, width = 2, colordown='g', colorup='r')\n",
    "    ax2.fill_between(df_volume.index.map(mdates.date2num),df_volume.values, 0)\n",
    "    plt.show()"
   ]
  },
  {
   "cell_type": "code",
   "execution_count": 10,
   "metadata": {},
   "outputs": [
    {
     "data": {
      "image/png": "[encoded data removed]",
      "text/plain": [
       "<Figure size 432x288 with 2 Axes>"
      ]
     },
     "metadata": {
      "needs_background": "light"
     },
     "output_type": "display_data"
    }
   ],
   "source": [
    "candle_stick(apple)"
   ]
  },
  {
   "cell_type": "code",
   "execution_count": null,
   "metadata": {},
   "outputs": [],
   "source": []
  },
  {
   "cell_type": "code",
   "execution_count": null,
   "metadata": {},
   "outputs": [],
   "source": []
  },
  {
   "cell_type": "code",
   "execution_count": null,
   "metadata": {},
   "outputs": [],
   "source": []
  },
  {
   "cell_type": "code",
   "execution_count": null,
   "metadata": {},
   "outputs": [],
   "source": []
  },
  {
   "cell_type": "code",
   "execution_count": null,
   "metadata": {},
   "outputs": [],
   "source": []
  },
  {
   "cell_type": "code",
   "execution_count": null,
   "metadata": {},
   "outputs": [],
   "source": []
  },
  {
   "cell_type": "code",
   "execution_count": null,
   "metadata": {},
   "outputs": [],
   "source": []
  },
  {
   "cell_type": "code",
   "execution_count": null,
   "metadata": {},
   "outputs": [],
   "source": []
  },
  {
   "cell_type": "code",
   "execution_count": null,
   "metadata": {},
   "outputs": [],
   "source": []
  },
  {
   "cell_type": "code",
   "execution_count": null,
   "metadata": {},
   "outputs": [],
   "source": []
  }
 ],
 "metadata": {
  "kernelspec": {
   "display_name": "Python 3",
   "language": "python",
   "name": "python3"
  },
  "language_info": {
   "codemirror_mode": {
    "name": "ipython",
    "version": 3
   },
   "file_extension": ".py",
   "mimetype": "text/x-python",
   "name": "python",
   "nbconvert_exporter": "python",
   "pygments_lexer": "ipython3",
   "version": "3.6.7"
  }
 },
 "nbformat": 4,
 "nbformat_minor": 2
}
